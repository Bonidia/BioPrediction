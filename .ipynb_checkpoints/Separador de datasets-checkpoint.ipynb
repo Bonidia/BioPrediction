{
 "cells": [
  {
   "cell_type": "code",
   "execution_count": 9,
   "id": "70ecd3c9",
   "metadata": {},
   "outputs": [
    {
     "name": "stdout",
     "output_type": "stream",
     "text": [
      "ID: B4FCE3_ZmalncRNA213|interactive\n",
      "Name: B4FCE3_ZmalncRNA213|interactive\n",
      "Description: B4FCE3_ZmalncRNA213|interactive\n",
      "Number of features: 0\n",
      "Seq('MSSGGADKPGSGGGAVKTPSDFLKSIRGRPVVVKLNSGVDYRGILACLDGYMNI...AGG')\n"
     ]
    }
   ],
   "source": [
    "from Bio import SeqIO\n",
    "\n",
    "fasta_file = \"data/dataset_5/ZMAInteraction.txt\"\n",
    "fasta_sequences = SeqIO.parse(open(fasta_file),'fasta')\n",
    "\n",
    "print(next(fasta_sequences))\n",
    "\n",
    "sequence_str = str(next(fasta_sequences).seq)"
   ]
  },
  {
   "cell_type": "code",
   "execution_count": 10,
   "id": "ee0cb6bb",
   "metadata": {
    "scrolled": true
   },
   "outputs": [
    {
     "name": "stdout",
     "output_type": "stream",
     "text": [
      "MASGGPALEPLVDQVISVITNDGRNIVGTLRGFDQATNIILDESHERVYSRKEGVQQLVLGLYIIRGDNISVVGEVDEELDSRLDMSKLRAHPLKPVIHTTTTTCTGGATTTTAGGCTGTTCGTAACCCCTACAACAATGATCCGTATCAGCTCCGGTAAATTTAGCGGAGGCCTCCGGACGGTTTCTCCATCGCCCGCTATCGCGTCGCCTTTGACTTTTCTCCGACGGTAAATTTATTCGTCACGCCGTCGGCCGCATATAGGACTGTCTACGGATCTGAGTGAGCATCTCTCGGGCGGAATCGCCGAGCCGACGCAGCTTCGCCACCAGCTCCGCGGCGTTCGACGCCGGGCACCGCCGTGCGCACGGCAGCGAACTTCCTCTGCTCGCACTGATGCTGCCGCTACACATCCTCCTGCGCTCCTTCGACGAACCGCTCGAACCACCATGGTGGCCGCGGCGTTCGACGTCGGCCACCACCGTGCGCAGGGCGGCGACTGCCCGTGCTCCACCTTCGGCCCAGCGGACACTGGCAGACAACGACGACATCACGCCCTTCTATGTTGTTGCCTCCTCCGGCGGACGTACTCCTGCGCTCCTTCTCCGACGAACCATGGCGCTCGACCACCGATATGAAGACAACAACTCTCCTGTTCGACGAAATGTCTCCAAAGCAAAATAGAGATCAACTATGTTTTTTTTGTCCAATAAGAGTTTATGTTACAAAACATACTTAGATAGCATTTTCTTCGGAAAAGAAATATTACCAATGTCGATTACATAATGTAATTATTTTCACCAGTCCATAATTCAATTTCGATTGCGTGTTCGATAAGG\n"
     ]
    }
   ],
   "source": [
    "print(sequence_str)"
   ]
  },
  {
   "cell_type": "code",
   "execution_count": 11,
   "id": "0f58c7c6",
   "metadata": {
    "scrolled": false
   },
   "outputs": [
    {
     "name": "stdout",
     "output_type": "stream",
     "text": [
      "44266\n",
      "88532\n",
      "['TTTTTCTGGATTTTAGGCTGTTCGTAACCCCTACAACAATGATCCGTATCAGCTCCGGTAAATTTAGCGGAGGCCTCCGGACGGTTTCTCCATCGCCCGCTATCGCGTCGCCTTTGACTTTTCTCCGACGGTAAATTTATTCGTCACGCCGTCGGCCGCATATAGGACTGTCTACGGATCTGAGTGAGCATCTCTCGGGCGGAATCGCCGAGCCGACGCAGCTTCGCCACCAGCTCCGCGGCGTTCGACGCCGGGCACCGCCGTGCGCACGGCAGCGAACTTCCTCTGCTCGCACTGATGCTGCCGCTACACATCCTCCTGCGCTCCTTCGACGAACCGCTCGAACCACCATGGTGGCCGCGGCGTTCGACGTCGGCCACCACCGTGCGCAGGGCGGCGACTGCCCGTGCTCCACCTTCGGCCCAGCGGACACTGGCAGACAACGACGACATCACGCCCTTCTATGTTGTTGCCTCCTCCGGCGGACGTACTCCTGCGCTCCTTCTCCGACGAACCATGGCGCTCGACCACCGATATGAAGACAACAACTCTCCTGTTCGACGAAATGTCTCCAAAGCAAAATAGAGATCAACTATGTTTTTTTTGTCCAATAAGAGTTTATGTTACAAAACATACTTAGATAGCATTTTCTTCGGAAAAGAAATATTACCAATGTCGATTACATAATGTAATTATTTTCACCAGTCCATAATTCAATTTCGATTGCGTGTTCGATAAGG', 'TTTTTCTGGATTTTAGGCTGTTCGTAACCCCTACAACAATGATCCGTATCAGCTCCGGTAAATTTAGCGGAGGCCTCCGGACGGTTTCTCCATCGCCCGCTATCGCGTCGCCTTTGACTTTTCTCCGACGGTAAATTTATTCGTCACGCCGTCGGCCGCATATAGGACTGTCTACGGATCTGAGTGAGCATCTCTCGGGCGGAATCGCCGAGCCGACGCAGCTTCGCCACCAGCTCCGCGGCGTTCGACGCCGGGCACCGCCGTGCGCACGGCAGCGAACTTCCTCTGCTCGCACTGATGCTGCCGCTACACATCCTCCTGCGCTCCTTCGACGAACCGCTCGAACCACCATGGTGGCCGCGGCGTTCGACGTCGGCCACCACCGTGCGCAGGGCGGCGACTGCCCGTGCTCCACCTTCGGCCCAGCGGACACTGGCAGACAACGACGACATCACGCCCTTCTATGTTGTTGCCTCCTCCGGCGGACGTACTCCTGCGCTCCTTCTCCGACGAACCATGGCGCTCGACCACCGATATGAAGACAACAACTCTCCTGTTCGACGAAATGTCTCCAAAGCAAAATAGAGATCAACTATGTTTTTTTTGTCCAATAAGAGTTTATGTTACAAAACATACTTAGATAGCATTTTCTTCGGAAAAGAAATATTACCAATGTCGATTACATAATGTAATTATTTTCACCAGTCCATAATTCAATTTCGATTGCGTGTTCGATAAGG', 'TTTTTCTGGATTTTAGGCTGTTCGTAACCCCTACAACAATGATCCGTATCAGCTCCGGTAAATTTAGCGGAGGCCTCCGGACGGTTTCTCCATCGCCCGCTATCGCGTCGCCTTTGACTTTTCTCCGACGGTAAATTTATTCGTCACGCCGTCGGCCGCATATAGGACTGTCTACGGATCTGAGTGAGCATCTCTCGGGCGGAATCGCCGAGCCGACGCAGCTTCGCCACCAGCTCCGCGGCGTTCGACGCCGGGCACCGCCGTGCGCACGGCAGCGAACTTCCTCTGCTCGCACTGATGCTGCCGCTACACATCCTCCTGCGCTCCTTCGACGAACCGCTCGAACCACCATGGTGGCCGCGGCGTTCGACGTCGGCCACCACCGTGCGCAGGGCGGCGACTGCCCGTGCTCCACCTTCGGCCCAGCGGACACTGGCAGACAACGACGACATCACGCCCTTCTATGTTGTTGCCTCCTCCGGCGGACGTACTCCTGCGCTCCTTCTCCGACGAACCATGGCGCTCGACCACCGATATGAAGACAACAACTCTCCTGTTCGACGAAATGTCTCCAAAGCAAAATAGAGATCAACTATGTTTTTTTTGTCCAATAAGAGTTTATGTTACAAAACATACTTAGATAGCATTTTCTTCGGAAAAGAAATATTACCAATGTCGATTACATAATGTAATTATTTTCACCAGTCCATAATTCAATTTCGATTGCGTGTTCGATAAGG', 'TTTTTCTGGATTTTAGGCTGTTCGTAACCCCTACAACAATGATCCGTATCAGCTCCGGTAAATTTAGCGGAGGCCTCCGGACGGTTTCTCCATCGCCCGCTATCGCGTCGCCTTTGACTTTTCTCCGACGGTAAATTTATTCGTCACGCCGTCGGCCGCATATAGGACTGTCTACGGATCTGAGTGAGCATCTCTCGGGCGGAATCGCCGAGCCGACGCAGCTTCGCCACCAGCTCCGCGGCGTTCGACGCCGGGCACCGCCGTGCGCACGGCAGCGAACTTCCTCTGCTCGCACTGATGCTGCCGCTACACATCCTCCTGCGCTCCTTCGACGAACCGCTCGAACCACCATGGTGGCCGCGGCGTTCGACGTCGGCCACCACCGTGCGCAGGGCGGCGACTGCCCGTGCTCCACCTTCGGCCCAGCGGACACTGGCAGACAACGACGACATCACGCCCTTCTATGTTGTTGCCTCCTCCGGCGGACGTACTCCTGCGCTCCTTCTCCGACGAACCATGGCGCTCGACCACCGATATGAAGACAACAACTCTCCTGTTCGACGAAATGTCTCCAAAGCAAAATAGAGATCAACTATGTTTTTTTTGTCCAATAAGAGTTTATGTTACAAAACATACTTAGATAGCATTTTCTTCGGAAAAGAAATATTACCAATGTCGATTACATAATGTAATTATTTTCACCAGTCCATAATTCAATTTCGATTGCGTGTTCGATAAGG', 'TTTTTCTGGATTTTAGGCTGTTCGTAACCCCTACAACAATGATCCGTATCAGCTCCGGTAAATTTAGCGGAGGCCTCCGGACGGTTTCTCCATCGCCCGCTATCGCGTCGCCTTTGACTTTTCTCCGACGGTAAATTTATTCGTCACGCCGTCGGCCGCATATAGGACTGTCTACGGATCTGAGTGAGCATCTCTCGGGCGGAATCGCCGAGCCGACGCAGCTTCGCCACCAGCTCCGCGGCGTTCGACGCCGGGCACCGCCGTGCGCACGGCAGCGAACTTCCTCTGCTCGCACTGATGCTGCCGCTACACATCCTCCTGCGCTCCTTCGACGAACCGCTCGAACCACCATGGTGGCCGCGGCGTTCGACGTCGGCCACCACCGTGCGCAGGGCGGCGACTGCCCGTGCTCCACCTTCGGCCCAGCGGACACTGGCAGACAACGACGACATCACGCCCTTCTATGTTGTTGCCTCCTCCGGCGGACGTACTCCTGCGCTCCTTCTCCGACGAACCATGGCGCTCGACCACCGATATGAAGACAACAACTCTCCTGTTCGACGAAATGTCTCCAAAGCAAAATAGAGATCAACTATGTTTTTTTTGTCCAATAAGAGTTTATGTTACAAAACATACTTAGATAGCATTTTCTTCGGAAAAGAAATATTACCAATGTCGATTACATAATGTAATTATTTTCACCAGTCCATAATTCAATTTCGATTGCGTGTTCGATAAGG', 'TTTTTCTGGATTTTAGGCTGTTCGTAACCCCTACAACAATGATCCGTATCAGCTCCGGTAAATTTAGCGGAGGCCTCCGGACGGTTTCTCCATCGCCCGCTATCGCGTCGCCTTTGACTTTTCTCCGACGGTAAATTTATTCGTCACGCCGTCGGCCGCATATAGGACTGTCTACGGATCTGAGTGAGCATCTCTCGGGCGGAATCGCCGAGCCGACGCAGCTTCGCCACCAGCTCCGCGGCGTTCGACGCCGGGCACCGCCGTGCGCACGGCAGCGAACTTCCTCTGCTCGCACTGATGCTGCCGCTACACATCCTCCTGCGCTCCTTCGACGAACCGCTCGAACCACCATGGTGGCCGCGGCGTTCGACGTCGGCCACCACCGTGCGCAGGGCGGCGACTGCCCGTGCTCCACCTTCGGCCCAGCGGACACTGGCAGACAACGACGACATCACGCCCTTCTATGTTGTTGCCTCCTCCGGCGGACGTACTCCTGCGCTCCTTCTCCGACGAACCATGGCGCTCGACCACCGATATGAAGACAACAACTCTCCTGTTCGACGAAATGTCTCCAAAGCAAAATAGAGATCAACTATGTTTTTTTTGTCCAATAAGAGTTTATGTTACAAAACATACTTAGATAGCATTTTCTTCGGAAAAGAAATATTACCAATGTCGATTACATAATGTAATTATTTTCACCAGTCCATAATTCAATTTCGATTGCGTGTTCGATAAGG', 'TTTTTCTGGATTTTAGGCTGTTCGTAACCCCTACAACAATGATCCGTATCAGCTCCGGTAAATTTAGCGGAGGCCTCCGGACGGTTTCTCCATCGCCCGCTATCGCGTCGCCTTTGACTTTTCTCCGACGGTAAATTTATTCGTCACGCCGTCGGCCGCATATAGGACTGTCTACGGATCTGAGTGAGCATCTCTCGGGCGGAATCGCCGAGCCGACGCAGCTTCGCCACCAGCTCCGCGGCGTTCGACGCCGGGCACCGCCGTGCGCACGGCAGCGAACTTCCTCTGCTCGCACTGATGCTGCCGCTACACATCCTCCTGCGCTCCTTCGACGAACCGCTCGAACCACCATGGTGGCCGCGGCGTTCGACGTCGGCCACCACCGTGCGCAGGGCGGCGACTGCCCGTGCTCCACCTTCGGCCCAGCGGACACTGGCAGACAACGACGACATCACGCCCTTCTATGTTGTTGCCTCCTCCGGCGGACGTACTCCTGCGCTCCTTCTCCGACGAACCATGGCGCTCGACCACCGATATGAAGACAACAACTCTCCTGTTCGACGAAATGTCTCCAAAGCAAAATAGAGATCAACTATGTTTTTTTTGTCCAATAAGAGTTTATGTTACAAAACATACTTAGATAGCATTTTCTTCGGAAAAGAAATATTACCAATGTCGATTACATAATGTAATTATTTTCACCAGTCCATAATTCAATTTCGATTGCGTGTTCGATAAGG', 'TTTTTCTGGATTTTAGGCTGTTCGTAACCCCTACAACAATGATCCGTATCAGCTCCGGTAAATTTAGCGGAGGCCTCCGGACGGTTTCTCCATCGCCCGCTATCGCGTCGCCTTTGACTTTTCTCCGACGGTAAATTTATTCGTCACGCCGTCGGCCGCATATAGGACTGTCTACGGATCTGAGTGAGCATCTCTCGGGCGGAATCGCCGAGCCGACGCAGCTTCGCCACCAGCTCCGCGGCGTTCGACGCCGGGCACCGCCGTGCGCACGGCAGCGAACTTCCTCTGCTCGCACTGATGCTGCCGCTACACATCCTCCTGCGCTCCTTCGACGAACCGCTCGAACCACCATGGTGGCCGCGGCGTTCGACGTCGGCCACCACCGTGCGCAGGGCGGCGACTGCCCGTGCTCCACCTTCGGCCCAGCGGACACTGGCAGACAACGACGACATCACGCCCTTCTATGTTGTTGCCTCCTCCGGCGGACGTACTCCTGCGCTCCTTCTCCGACGAACCATGGCGCTCGACCACCGATATGAAGACAACAACTCTCCTGTTCGACGAAATGTCTCCAAAGCAAAATAGAGATCAACTATGTTTTTTTTGTCCAATAAGAGTTTATGTTACAAAACATACTTAGATAGCATTTTCTTCGGAAAAGAAATATTACCAATGTCGATTACATAATGTAATTATTTTCACCAGTCCATAATTCAATTTCGATTGCGTGTTCGATAAGG', 'TTTTTCTGGATTTTAGGCTGTTCGTAACCCCTACAACAATGATCCGTATCAGCTCCGGTAAATTTAGCGGAGGCCTCCGGACGGTTTCTCCATCGCCCGCTATCGCGTCGCCTTTGACTTTTCTCCGACGGTAAATTTATTCGTCACGCCGTCGGCCGCATATAGGACTGTCTACGGATCTGAGTGAGCATCTCTCGGGCGGAATCGCCGAGCCGACGCAGCTTCGCCACCAGCTCCGCGGCGTTCGACGCCGGGCACCGCCGTGCGCACGGCAGCGAACTTCCTCTGCTCGCACTGATGCTGCCGCTACACATCCTCCTGCGCTCCTTCGACGAACCGCTCGAACCACCATGGTGGCCGCGGCGTTCGACGTCGGCCACCACCGTGCGCAGGGCGGCGACTGCCCGTGCTCCACCTTCGGCCCAGCGGACACTGGCAGACAACGACGACATCACGCCCTTCTATGTTGTTGCCTCCTCCGGCGGACGTACTCCTGCGCTCCTTCTCCGACGAACCATGGCGCTCGACCACCGATATGAAGACAACAACTCTCCTGTTCGACGAAATGTCTCCAAAGCAAAATAGAGATCAACTATGTTTTTTTTGTCCAATAAGAGTTTATGTTACAAAACATACTTAGATAGCATTTTCTTCGGAAAAGAAATATTACCAATGTCGATTACATAATGTAATTATTTTCACCAGTCCATAATTCAATTTCGATTGCGTGTTCGATAAGG']\n"
     ]
    }
   ],
   "source": [
    "def read_fasta_file(filename):\n",
    "    seq = []\n",
    "    labels = []\n",
    "    names_nu = []\n",
    "    names_am = []\n",
    "    sequences = ''\n",
    "    with open(filename, 'r') as file:\n",
    "        for line in file:\n",
    "            if line.startswith('>'):\n",
    "                #print(line)\n",
    "                label = line[1:].strip().split(\"|\")\n",
    "                \n",
    "                \n",
    "                dna, protein = label[0].split('_')\n",
    "                names_nu.append(dna)\n",
    "                names_am.append(protein)\n",
    "                \n",
    "                \n",
    "                if label[1] == 'interactive':\n",
    "                    labels.append(1)\n",
    "                elif label[1] == 'non':\n",
    "                    labels.append(0)\n",
    "                else:\n",
    "                    print('label desconhecido')\n",
    "                continue\n",
    "            #print(line)\n",
    "            sequences += line.strip()\n",
    "            seq.append(sequences) \n",
    "            sequences = ''\n",
    "    return seq, labels, names_nu, names_am\n",
    "\n",
    "seq, labels, names_nu, names_am=read_fasta_file(\"data/dataset_5/ZMAInteraction.txt\")\n",
    "print(len(labels))\n",
    "print(len(seq))\n",
    "\n",
    "#print(names[0])\n",
    "#print(labels[1])\n",
    "#print(' ')\n",
    "#print(seq[0])\n",
    "#print(' ')\n",
    "#print(seq[1])\n",
    "\n",
    "\n",
    "#print(names_am)\n",
    "\n",
    "nucleot = []\n",
    "amino = []\n",
    "for i in range(1,len(seq),2):\n",
    "    nucleot.append(seq[i])\n",
    "print(nucleot[1:10])\n",
    "\n",
    "for i in range(0,len(seq),2):\n",
    "    amino.append(seq[i])\n",
    "#print(amino)"
   ]
  },
  {
   "cell_type": "code",
   "execution_count": 12,
   "id": "47a7b60a",
   "metadata": {},
   "outputs": [],
   "source": [
    "import pandas as pd\n",
    "df1 = pd.DataFrame(names_nu, columns=['nameseq'])\n",
    "df2 = pd.DataFrame(nucleot, columns=['seq_nucleot'])\n",
    "data = df1.join(df2)\n",
    "seq_dict = dict(zip(data['nameseq'], data['seq_nucleot']))\n",
    "\n",
    "with open('dados_nu.fasta', 'w') as f:\n",
    "    for id, seq in seq_dict.items():\n",
    "        f.write(f'>{id}\\n{seq}\\n')\n",
    "        \n",
    "df1 = pd.DataFrame(names_am, columns=['nameseq'])\n",
    "df2 = pd.DataFrame(amino, columns=['seq_amino'])\n",
    "data = df1.join(df2)\n",
    "seq_dict = dict(zip(data['nameseq'], data['seq_amino']))\n",
    "\n",
    "with open('dados_am.fasta', 'w') as f:\n",
    "    for id, seq in seq_dict.items():\n",
    "        f.write(f'>{id}\\n{seq}\\n')"
   ]
  },
  {
   "cell_type": "code",
   "execution_count": 13,
   "id": "dde77ad7",
   "metadata": {},
   "outputs": [
    {
     "name": "stdout",
     "output_type": "stream",
     "text": [
      "dict_keys(['B4FCE3', 'B4FNR5', 'B4FPJ2', 'B4FSW0', 'B6SIF0', 'B6SP74', 'B6SXV2', 'B6T6E9', 'B6TDJ0', 'B6U471', 'B8A0M3', 'B8A134', 'B8A305', 'C0PFQ6', 'C4IYC2', 'C4J594', 'B4F8A7', 'B4FGK8', 'C0P6Q4', 'C0PIH9', 'C4J3A0', 'B4F8L8', 'B4FB39', 'B4FBV8', 'B4FHE9', 'B4FLX0', 'B6TP60', 'B7ZXJ1', 'B8A2G7', 'C0P3W2', 'C0P8S9', 'C0PLI2', 'Q41834', 'B6T6H4', 'C0PF88', 'C0PHE3', 'B4FDA8', 'B4FMA8', 'C0P488', 'B6TJJ4', 'C0P539', 'C0P558'])\n",
      "             nameseq\n",
      "0       ZmalncRNA213\n",
      "1       ZmalncRNA213\n",
      "2       ZmalncRNA213\n",
      "3       ZmalncRNA213\n",
      "4       ZmalncRNA213\n",
      "...              ...\n",
      "44261  ZmalncRNA1089\n",
      "44262  ZmalncRNA1090\n",
      "44263  ZmalncRNA1091\n",
      "44264  ZmalncRNA1092\n",
      "44265  ZmalncRNA1093\n",
      "\n",
      "[44266 rows x 1 columns]\n"
     ]
    }
   ],
   "source": [
    "import pandas as pd\n",
    "\n",
    "df1 = pd.DataFrame(names_nu, columns=['nameseq'])\n",
    "df2 = pd.DataFrame(nucleot, columns=['seq_nucleot'])\n",
    "data = df1.join(df2)\n",
    "\n",
    "# Criar um dicionário para armazenar as sequências\n",
    "seq_dict = {}\n",
    "\n",
    "# Iterar sobre as linhas do DataFrame e adicionar as sequências ao dicionário\n",
    "for index, row in data.iterrows():\n",
    "    id = row['nameseq']\n",
    "    seq = row['seq_nucleot']\n",
    "    if id not in seq_dict:\n",
    "        seq_dict[id] = [seq]\n",
    "    else:\n",
    "        seq_dict[id].append(seq)\n",
    "print(seq_dict.keys())\n",
    "\n",
    "# Salvar as sequências no arquivo fasta\n",
    "with open('dados_nu.fasta', 'w') as f:\n",
    "    for id, seqs in seq_dict.items():\n",
    "        for seq in seqs:\n",
    "            f.write(f'>{id}\\n{seq}\\n')\n",
    "            \n",
    "            \n",
    "df1 = pd.DataFrame(names_am, columns=['nameseq'])\n",
    "df2 = pd.DataFrame(amino, columns=['seq_amino'])\n",
    "data = df1.join(df2)\n",
    "\n",
    "print(df1)\n",
    "\n",
    "# Criar um dicionário para armazenar as sequências\n",
    "seq_dict = {}\n",
    "\n",
    "# Iterar sobre as linhas do DataFrame e adicionar as sequências ao dicionário\n",
    "for index, row in data.iterrows():\n",
    "    id = row['nameseq']\n",
    "    seq = row['seq_amino']\n",
    "    if id not in seq_dict:\n",
    "        seq_dict[id] = [seq]\n",
    "    else:\n",
    "        seq_dict[id].append(seq)\n",
    "\n",
    "# Salvar as sequências no arquivo fasta\n",
    "with open('dados_am.fasta', 'w') as f:\n",
    "    for id, seqs in seq_dict.items():\n",
    "        for seq in seqs:\n",
    "            f.write(f'>{id}\\n{seq}\\n')\n"
   ]
  },
  {
   "cell_type": "code",
   "execution_count": 14,
   "id": "83c5b9d1",
   "metadata": {},
   "outputs": [],
   "source": [
    "df1 = pd.DataFrame(names_nu, columns=['nameseq'])\n",
    "df2 = pd.DataFrame(nucleot, columns=['seq_nucleot'])\n",
    "data = df1.join(df2)\n",
    "\n",
    "# Criar um dicionário para armazenar as sequências\n",
    "seq_dict = {}\n",
    "\n",
    "# Iterar sobre as linhas do DataFrame e adicionar as sequências ao dicionário\n",
    "#for index, row in data.iterrows():\n",
    "#    id = row['nameseq']\n",
    "#    seq = row['seq_nucleot']\n",
    "#    if id not in seq_dict:\n",
    "#        seq_dict[id] = [seq]\n",
    "#    else:\n",
    "#        seq_dict[id].append(seq)\n",
    "#print(seq_dict.keys())\n",
    "\n",
    "names = df1['nameseq'].tolist()\n",
    "seqs = df2['seq_nucleot'].tolist()\n",
    "# Salvar as sequências no arquivo fasta\n",
    "with open('dados_nu.fasta', 'w') as f:\n",
    "    for i in range(len(names)):\n",
    "        f.write(f'>{(names[i])}\\n{seqs[i]}\\n')"
   ]
  },
  {
   "cell_type": "code",
   "execution_count": 15,
   "id": "35408153",
   "metadata": {},
   "outputs": [],
   "source": [
    "df2 =  pd.DataFrame(labels, columns=['labels'])\n",
    "df2.to_csv('dataset4_labels.csv', index=False)\n"
   ]
  },
  {
   "cell_type": "code",
   "execution_count": 16,
   "id": "90856264",
   "metadata": {},
   "outputs": [
    {
     "name": "stdout",
     "output_type": "stream",
     "text": [
      "       labels\n",
      "0           1\n",
      "1           1\n",
      "2           1\n",
      "3           1\n",
      "4           1\n",
      "...       ...\n",
      "44261       0\n",
      "44262       0\n",
      "44263       0\n",
      "44264       0\n",
      "44265       0\n",
      "\n",
      "[44266 rows x 1 columns]\n"
     ]
    }
   ],
   "source": [
    "print(df2)"
   ]
  },
  {
   "cell_type": "code",
   "execution_count": null,
   "id": "6cabcdb6",
   "metadata": {},
   "outputs": [],
   "source": []
  },
  {
   "cell_type": "code",
   "execution_count": null,
   "id": "b408a1a8",
   "metadata": {},
   "outputs": [],
   "source": []
  }
 ],
 "metadata": {
  "kernelspec": {
   "display_name": "Python 3 (ipykernel)",
   "language": "python",
   "name": "python3"
  },
  "language_info": {
   "codemirror_mode": {
    "name": "ipython",
    "version": 3
   },
   "file_extension": ".py",
   "mimetype": "text/x-python",
   "name": "python",
   "nbconvert_exporter": "python",
   "pygments_lexer": "ipython3",
   "version": "3.9.7"
  }
 },
 "nbformat": 4,
 "nbformat_minor": 5
}
