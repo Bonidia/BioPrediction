{
 "cells": [
  {
   "cell_type": "code",
   "execution_count": 2,
   "id": "70ecd3c9",
   "metadata": {},
   "outputs": [],
   "source": [
    "from Bio import SeqIO\n",
    "import pandas as pd"
   ]
  },
  {
   "cell_type": "code",
   "execution_count": 3,
   "id": "0f58c7c6",
   "metadata": {
    "scrolled": false
   },
   "outputs": [],
   "source": [
    "def read_fasta_file(filename):\n",
    "    seq = []\n",
    "    labels = []\n",
    "    names_nu = []\n",
    "    names_am = []\n",
    "    sequences = ''\n",
    "    with open(filename, 'r') as file:\n",
    "        for line in file:\n",
    "            if line.startswith('>'):\n",
    "                label = line[1:].strip().split(\"|\")\n",
    "                dna, protein = label[0].split('_')\n",
    "                \n",
    "                names_nu.append(dna)\n",
    "                names_am.append(protein)\n",
    "                \n",
    "                if label[1] == 'interactive':\n",
    "                    labels.append(1)\n",
    "                elif label[1] == 'non':\n",
    "                    labels.append(0)\n",
    "                else:\n",
    "                    print('label desconhecido')\n",
    "                continue\n",
    "            sequences += line.strip()\n",
    "            seq.append(sequences) \n",
    "            sequences = ''\n",
    "    return seq, labels, names_nu, names_am\n",
    "\n",
    "seq, labels, names_nu, names_am=read_fasta_file(\"data/dataset_4/athinteraction.txt\")\n",
    "\n",
    "nucleot = []\n",
    "amino = []\n",
    "\n",
    "#Em 'seq' tem os nucleotídeos e os aminoácidos, vamos separar\n",
    "for i in range(1,len(seq),2):\n",
    "    nucleot.append(seq[i])\n",
    "\n",
    "for i in range(0,len(seq),2):\n",
    "    amino.append(seq[i])\n",
    "\n",
    "#Salvar os nucleotídeos em formato fasta\n",
    "with open('dados_nu.fasta', 'w') as f:\n",
    "    for i in range(len(names_nu)):\n",
    "        f.write(f'>{(names_nu[i])}\\n{nucleot[i]}\\n')\n",
    "\n",
    "#Salvar os aminoácidos em formato fasta\n",
    "with open('dados_am.fasta', 'w') as f:\n",
    "    for i in range(len(names_nu)):\n",
    "        f.write(f'>{(names_am[i])}\\n{amino[i]}\\n')    \n",
    "\n",
    "#Salvar os labels\n",
    "df =  pd.DataFrame(labels, columns=['labels'])\n",
    "df.to_csv('labels.csv', index=False)"
   ]
  },
  {
   "cell_type": "code",
   "execution_count": null,
   "id": "cac64458",
   "metadata": {},
   "outputs": [],
   "source": []
  }
 ],
 "metadata": {
  "kernelspec": {
   "display_name": "Python 3 (ipykernel)",
   "language": "python",
   "name": "python3"
  },
  "language_info": {
   "codemirror_mode": {
    "name": "ipython",
    "version": 3
   },
   "file_extension": ".py",
   "mimetype": "text/x-python",
   "name": "python",
   "nbconvert_exporter": "python",
   "pygments_lexer": "ipython3",
   "version": "3.9.7"
  }
 },
 "nbformat": 4,
 "nbformat_minor": 5
}
